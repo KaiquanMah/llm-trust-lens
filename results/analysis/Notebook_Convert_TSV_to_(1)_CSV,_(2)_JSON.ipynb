{
  "nbformat": 4,
  "nbformat_minor": 0,
  "metadata": {
    "colab": {
      "provenance": []
    },
    "kernelspec": {
      "name": "python3",
      "display_name": "Python 3"
    },
    "language_info": {
      "name": "python"
    }
  },
  "cells": [
    {
      "cell_type": "markdown",
      "source": [
        "# Notebook - Convert TSV to (1) CSV, (2) JSON\n",
        "* Converting between file formats may be needed sometimes\n",
        "* Here, we perform file format conversion to generate CSV and JSON files to add support for such file formats (commonly found in data science) in our pipeline later"
      ],
      "metadata": {
        "id": "qABJPyF4twTv"
      }
    },
    {
      "cell_type": "code",
      "source": [
        "!git clone https://github.com/thuiar/Adaptive-Decision-Boundary.git"
      ],
      "metadata": {
        "id": "SiDl72JsfqIc",
        "colab": {
          "base_uri": "https://localhost:8080/"
        },
        "outputId": "f3d20f23-94e5-4763-d6ff-2307ede74a9e"
      },
      "execution_count": 1,
      "outputs": [
        {
          "output_type": "stream",
          "name": "stdout",
          "text": [
            "Cloning into 'Adaptive-Decision-Boundary'...\n",
            "remote: Enumerating objects: 211, done.\u001b[K\n",
            "remote: Counting objects: 100% (38/38), done.\u001b[K\n",
            "remote: Compressing objects: 100% (2/2), done.\u001b[K\n",
            "remote: Total 211 (delta 36), reused 36 (delta 36), pack-reused 173 (from 1)\u001b[K\n",
            "Receiving objects: 100% (211/211), 1.26 MiB | 7.19 MiB/s, done.\n",
            "Resolving deltas: 100% (116/116), done.\n"
          ]
        }
      ]
    },
    {
      "cell_type": "code",
      "source": [
        "import pandas as pd\n",
        "import os\n",
        "import shutil\n",
        "from google.colab import files\n"
      ],
      "metadata": {
        "id": "Ie-BkqCAqYsC"
      },
      "execution_count": 16,
      "outputs": []
    },
    {
      "cell_type": "code",
      "source": [
        "def convert_tsv_to_csv(tsv_filename, csv_filename):\n",
        "    df = pd.read_csv(tsv_filename, sep='\\t')\n",
        "    df.to_csv(csv_filename, index=False)\n",
        "\n",
        "def convert_tsv_to_json(tsv_filename, json_filename):\n",
        "    df = pd.read_csv(tsv_filename, sep='\\t')\n",
        "    df.to_json(json_filename, orient='records', indent=2)"
      ],
      "metadata": {
        "id": "8NWy1VsVoijr"
      },
      "execution_count": 3,
      "outputs": []
    },
    {
      "cell_type": "markdown",
      "metadata": {
        "id": "ac7a0442"
      },
      "source": [
        "# 1. Convert TSV to CSV\n",
        "* Keep original filenames\n",
        "* Input directory: /content/Adaptive-Decision-Boundary/data/banking\n",
        "* Output directory: /content/Adaptive-Decision-Boundary/data/banking_simulate_csv"
      ]
    },
    {
      "cell_type": "code",
      "metadata": {
        "id": "35a373f9"
      },
      "source": [
        "# Create output directory\n",
        "output_dir = '/content/Adaptive-Decision-Boundary/data/banking_simulate_csv'\n",
        "os.makedirs(output_dir, exist_ok=True)"
      ],
      "execution_count": 5,
      "outputs": []
    },
    {
      "cell_type": "code",
      "metadata": {
        "colab": {
          "base_uri": "https://localhost:8080/"
        },
        "id": "ce03b477",
        "outputId": "021890c0-5a94-403e-80d0-53419b4e3687"
      },
      "source": [
        "# sanity check TSV files are in the input directory\n",
        "source_dir = '/content/Adaptive-Decision-Boundary/data/banking'\n",
        "all_files = os.listdir(source_dir)\n",
        "tsv_files = [f for f in all_files if f.endswith('.tsv')]\n",
        "print(tsv_files)"
      ],
      "execution_count": 6,
      "outputs": [
        {
          "output_type": "stream",
          "name": "stdout",
          "text": [
            "['dev.tsv', 'test.tsv', 'train.tsv']\n"
          ]
        }
      ]
    },
    {
      "cell_type": "code",
      "metadata": {
        "colab": {
          "base_uri": "https://localhost:8080/"
        },
        "id": "ff5c693d",
        "outputId": "284e2ec2-8e2b-4665-aafb-622e412f68ee"
      },
      "source": [
        "# convert TSV to CSV, then save in output directory\n",
        "for tsv_filename in tsv_files:\n",
        "    full_tsv_path = os.path.join(source_dir, tsv_filename)\n",
        "    csv_filename = tsv_filename.replace('.tsv', '.csv')\n",
        "    full_csv_path = os.path.join(output_dir, csv_filename)\n",
        "    convert_tsv_to_csv(full_tsv_path, full_csv_path)\n",
        "\n",
        "print(f\"Converted {len(tsv_files)} files to CSV in {output_dir}\")"
      ],
      "execution_count": 7,
      "outputs": [
        {
          "output_type": "stream",
          "name": "stdout",
          "text": [
            "Converted 3 files to CSV in /content/Adaptive-Decision-Boundary/data/banking_simulate_csv\n"
          ]
        }
      ]
    },
    {
      "cell_type": "code",
      "metadata": {
        "colab": {
          "base_uri": "https://localhost:8080/"
        },
        "id": "46532994",
        "outputId": "4a3ef6df-ef0b-436c-fc82-d55c1639f673"
      },
      "source": [
        "# check output CSVs were created\n",
        "output_files = os.listdir(output_dir)\n",
        "print(\"Files in the output directory:\", output_files)"
      ],
      "execution_count": 8,
      "outputs": [
        {
          "output_type": "stream",
          "name": "stdout",
          "text": [
            "Files in the output directory: ['dev.csv', 'train.csv', 'test.csv']\n"
          ]
        }
      ]
    },
    {
      "cell_type": "code",
      "metadata": {
        "colab": {
          "base_uri": "https://localhost:8080/",
          "height": 36
        },
        "id": "76040b8c",
        "outputId": "c9c67b8e-be0a-476a-d4be-6c6f965b6e50"
      },
      "source": [
        "# zip the folder\n",
        "shutil.make_archive('banking_simulate_csv_archive', 'zip', '/content/Adaptive-Decision-Boundary/data/', 'banking_simulate_csv')"
      ],
      "execution_count": null,
      "outputs": [
        {
          "output_type": "execute_result",
          "data": {
            "text/plain": [
              "'/content/banking_simulate_csv_archive.zip'"
            ],
            "application/vnd.google.colaboratory.intrinsic+json": {
              "type": "string"
            }
          },
          "metadata": {},
          "execution_count": 13
        }
      ]
    },
    {
      "cell_type": "code",
      "source": [
        "# Download the CSV zip file\n",
        "files.download('banking_simulate_csv_archive.zip')"
      ],
      "metadata": {
        "colab": {
          "base_uri": "https://localhost:8080/",
          "height": 17
        },
        "id": "WAxYgIwGui3G",
        "outputId": "1c451e5d-34a4-4f4b-b230-b06e4d5585c7"
      },
      "execution_count": 17,
      "outputs": [
        {
          "output_type": "display_data",
          "data": {
            "text/plain": [
              "<IPython.core.display.Javascript object>"
            ],
            "application/javascript": [
              "\n",
              "    async function download(id, filename, size) {\n",
              "      if (!google.colab.kernel.accessAllowed) {\n",
              "        return;\n",
              "      }\n",
              "      const div = document.createElement('div');\n",
              "      const label = document.createElement('label');\n",
              "      label.textContent = `Downloading \"${filename}\": `;\n",
              "      div.appendChild(label);\n",
              "      const progress = document.createElement('progress');\n",
              "      progress.max = size;\n",
              "      div.appendChild(progress);\n",
              "      document.body.appendChild(div);\n",
              "\n",
              "      const buffers = [];\n",
              "      let downloaded = 0;\n",
              "\n",
              "      const channel = await google.colab.kernel.comms.open(id);\n",
              "      // Send a message to notify the kernel that we're ready.\n",
              "      channel.send({})\n",
              "\n",
              "      for await (const message of channel.messages) {\n",
              "        // Send a message to notify the kernel that we're ready.\n",
              "        channel.send({})\n",
              "        if (message.buffers) {\n",
              "          for (const buffer of message.buffers) {\n",
              "            buffers.push(buffer);\n",
              "            downloaded += buffer.byteLength;\n",
              "            progress.value = downloaded;\n",
              "          }\n",
              "        }\n",
              "      }\n",
              "      const blob = new Blob(buffers, {type: 'application/binary'});\n",
              "      const a = document.createElement('a');\n",
              "      a.href = window.URL.createObjectURL(blob);\n",
              "      a.download = filename;\n",
              "      div.appendChild(a);\n",
              "      a.click();\n",
              "      div.remove();\n",
              "    }\n",
              "  "
            ]
          },
          "metadata": {}
        },
        {
          "output_type": "display_data",
          "data": {
            "text/plain": [
              "<IPython.core.display.Javascript object>"
            ],
            "application/javascript": [
              "download(\"download_bb2a91df-da7d-4709-8d25-e6c7df1b7f03\", \"banking_simulate_csv_archive.zip\", 265403)"
            ]
          },
          "metadata": {}
        }
      ]
    },
    {
      "cell_type": "markdown",
      "metadata": {
        "id": "687f60e0"
      },
      "source": [
        "# 2. Convert TSV to JSON\n",
        "* Keep original filenames\n",
        "* Input directory: /content/Adaptive-Decision-Boundary/data/banking\n",
        "* Output directory: /content/Adaptive-Decision-Boundary/data/banking_simulate_json\n"
      ]
    },
    {
      "cell_type": "code",
      "metadata": {
        "id": "b9beff9d"
      },
      "source": [
        "# Create output directory\n",
        "output_json_dir = '/content/Adaptive-Decision-Boundary/data/banking_simulate_json'\n",
        "os.makedirs(output_json_dir, exist_ok=True)"
      ],
      "execution_count": 9,
      "outputs": []
    },
    {
      "cell_type": "code",
      "metadata": {
        "colab": {
          "base_uri": "https://localhost:8080/"
        },
        "id": "c95508f2",
        "outputId": "c5d900aa-4281-45b7-8542-ce71b193f298"
      },
      "source": [
        "# sanity check TSV files are in the input directory\n",
        "source_dir = '/content/Adaptive-Decision-Boundary/data/banking'\n",
        "all_files = os.listdir(source_dir)\n",
        "tsv_files = [f for f in all_files if f.endswith('.tsv')]\n",
        "print(tsv_files)"
      ],
      "execution_count": 10,
      "outputs": [
        {
          "output_type": "stream",
          "name": "stdout",
          "text": [
            "['dev.tsv', 'test.tsv', 'train.tsv']\n"
          ]
        }
      ]
    },
    {
      "cell_type": "code",
      "metadata": {
        "colab": {
          "base_uri": "https://localhost:8080/"
        },
        "id": "97ca74ff",
        "outputId": "26e2995c-0d29-4aea-8099-8c0f90081a96"
      },
      "source": [
        "# convert TSV to JSON, then save in output directory\n",
        "for tsv_filename in tsv_files:\n",
        "    full_tsv_path = os.path.join(source_dir, tsv_filename)\n",
        "    json_filename = tsv_filename.replace('.tsv', '.json')\n",
        "    full_json_path = os.path.join(output_json_dir, json_filename)\n",
        "    convert_tsv_to_json(full_tsv_path, full_json_path)\n",
        "\n",
        "print(f\"Converted {len(tsv_files)} files to JSON in {output_json_dir}\")"
      ],
      "execution_count": 11,
      "outputs": [
        {
          "output_type": "stream",
          "name": "stdout",
          "text": [
            "Converted 3 files to JSON in /content/Adaptive-Decision-Boundary/data/banking_simulate_json\n"
          ]
        }
      ]
    },
    {
      "cell_type": "code",
      "metadata": {
        "colab": {
          "base_uri": "https://localhost:8080/"
        },
        "id": "2f712fea",
        "outputId": "0eec5f9b-1629-4e5e-a632-e5860bae1ef4"
      },
      "source": [
        "# check output JSONs were created\n",
        "output_json_files = os.listdir(output_json_dir)\n",
        "print(\"Files in the output JSON directory:\", output_json_files)"
      ],
      "execution_count": 12,
      "outputs": [
        {
          "output_type": "stream",
          "name": "stdout",
          "text": [
            "Files in the output JSON directory: ['dev.json', 'train.json', 'test.json']\n"
          ]
        }
      ]
    },
    {
      "cell_type": "code",
      "metadata": {
        "colab": {
          "base_uri": "https://localhost:8080/",
          "height": 36
        },
        "id": "94703241",
        "outputId": "7ad8b5b2-6f5d-4023-c7d5-700581311d18"
      },
      "source": [
        "# zip the folder\n",
        "shutil.make_archive('banking_simulate_json_archive', 'zip', '/content/Adaptive-Decision-Boundary/data/', 'banking_simulate_json')"
      ],
      "execution_count": null,
      "outputs": [
        {
          "output_type": "execute_result",
          "data": {
            "text/plain": [
              "'/content/banking_simulate_json_archive.zip'"
            ],
            "application/vnd.google.colaboratory.intrinsic+json": {
              "type": "string"
            }
          },
          "metadata": {},
          "execution_count": 14
        }
      ]
    },
    {
      "cell_type": "code",
      "metadata": {
        "colab": {
          "base_uri": "https://localhost:8080/",
          "height": 17
        },
        "id": "641a77d3",
        "outputId": "047e5dfb-f0c2-4b58-9caf-0be4ed51669c"
      },
      "source": [
        "# Download the JSON zip file\n",
        "files.download('banking_simulate_json_archive.zip')"
      ],
      "execution_count": 18,
      "outputs": [
        {
          "output_type": "display_data",
          "data": {
            "text/plain": [
              "<IPython.core.display.Javascript object>"
            ],
            "application/javascript": [
              "\n",
              "    async function download(id, filename, size) {\n",
              "      if (!google.colab.kernel.accessAllowed) {\n",
              "        return;\n",
              "      }\n",
              "      const div = document.createElement('div');\n",
              "      const label = document.createElement('label');\n",
              "      label.textContent = `Downloading \"${filename}\": `;\n",
              "      div.appendChild(label);\n",
              "      const progress = document.createElement('progress');\n",
              "      progress.max = size;\n",
              "      div.appendChild(progress);\n",
              "      document.body.appendChild(div);\n",
              "\n",
              "      const buffers = [];\n",
              "      let downloaded = 0;\n",
              "\n",
              "      const channel = await google.colab.kernel.comms.open(id);\n",
              "      // Send a message to notify the kernel that we're ready.\n",
              "      channel.send({})\n",
              "\n",
              "      for await (const message of channel.messages) {\n",
              "        // Send a message to notify the kernel that we're ready.\n",
              "        channel.send({})\n",
              "        if (message.buffers) {\n",
              "          for (const buffer of message.buffers) {\n",
              "            buffers.push(buffer);\n",
              "            downloaded += buffer.byteLength;\n",
              "            progress.value = downloaded;\n",
              "          }\n",
              "        }\n",
              "      }\n",
              "      const blob = new Blob(buffers, {type: 'application/binary'});\n",
              "      const a = document.createElement('a');\n",
              "      a.href = window.URL.createObjectURL(blob);\n",
              "      a.download = filename;\n",
              "      div.appendChild(a);\n",
              "      a.click();\n",
              "      div.remove();\n",
              "    }\n",
              "  "
            ]
          },
          "metadata": {}
        },
        {
          "output_type": "display_data",
          "data": {
            "text/plain": [
              "<IPython.core.display.Javascript object>"
            ],
            "application/javascript": [
              "download(\"download_7f38abf3-6d63-41a6-8d52-141fa6e222ed\", \"banking_simulate_json_archive.zip\", 289885)"
            ]
          },
          "metadata": {}
        }
      ]
    }
  ]
}